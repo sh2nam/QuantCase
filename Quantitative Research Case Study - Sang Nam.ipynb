{
 "cells": [
  {
   "cell_type": "markdown",
   "metadata": {},
   "source": [
    "# Quantitative Research Case Study\n",
    "\n",
    "In this research, we are going to consider a multiperiod binomial asset model for an asset S with N periods. Under this particular model, we have the following assumptions:\n",
    "\n",
    "1. the initial price of the asset is $S_{0}$ = 1;\n",
    "2. under the risk-neutral measure, the asset price at period j is $S_{j} = (1+v)S_{j-1}$ with probability 1/2 and $S_{j} = (1-v)S_{j-1}$ with probability 1/2, with $0 < v < 1$; and\n",
    "3. the interest rate associated with borrowing/lending currency for a single time period is 0.\n",
    "__________________________________________________________________________"
   ]
  },
  {
   "cell_type": "markdown",
   "metadata": {},
   "source": [
    "#### Import Libraries"
   ]
  },
  {
   "cell_type": "code",
   "execution_count": 1,
   "metadata": {},
   "outputs": [],
   "source": [
    "import pandas as pd\n",
    "import numpy as np\n",
    "from scipy.optimize import root"
   ]
  },
  {
   "cell_type": "markdown",
   "metadata": {},
   "source": [
    "#### Q1. European Call Option"
   ]
  },
  {
   "cell_type": "code",
   "execution_count": 2,
   "metadata": {},
   "outputs": [],
   "source": [
    "def binomial_european(S0, K, T, N, v, p_u=1/2, r=0, call=True):\n",
    "    \"\"\"\n",
    "    returns european call/put option value for given input \n",
    "    Parameters:\n",
    "        S0: initial underlying price\n",
    "        K: strike\n",
    "        T: time until maturity\n",
    "        N: number of time steps\n",
    "        v: used to calculate up or down factor; (1+v) or (1-v) respectively \n",
    "        p_u: probability of up factor\n",
    "        r: interest rate (in decimals)\n",
    "        call: True for call option, False for put option\n",
    "    \"\"\"\n",
    "    # check if 0 < v < 1:\n",
    "    if v <= 0 or v >= 1:\n",
    "        raise Exception('v should be >0 and <1')\n",
    "\n",
    "    # check if 0 < p_u < 1:\n",
    "    if p_u <= 0 or p_u >= 1:\n",
    "        raise Exception('p_u should be >0 and <1')\n",
    "    \n",
    "    # compute constants used for pricing:\n",
    "    dt = T/N\n",
    "    u = 1+v\n",
    "    d = 1-v\n",
    "    p_d = 1 - p_u\n",
    "    disct_rate = np.exp(-r*dt)\n",
    "    \n",
    "    # Asset Price at Maturity:\n",
    "    S_T = S0*d**(np.arange(N,-1,-1))*u**(np.arange(0,N+1,1))\n",
    "    \n",
    "    # Payout at Maturity:\n",
    "    if call:\n",
    "        payout = np.maximum(S_T-K,0)\n",
    "    else:\n",
    "        payout = np.maximum(K-S_T,0)\n",
    "    \n",
    "    # Go backwards through tree to discount\n",
    "    disc_payout = payout\n",
    "    for i in np.arange(N, 0, -1):\n",
    "        disc_payout = disct_rate * (p_u*disc_payout[1:i+1] + p_d*disc_payout[0:i])\n",
    "    \n",
    "    return disc_payout[0]"
   ]
  },
  {
   "cell_type": "code",
   "execution_count": 3,
   "metadata": {},
   "outputs": [
    {
     "data": {
      "text/plain": [
       "0.12745146665293"
      ]
     },
     "execution_count": 3,
     "metadata": {},
     "output_type": "execute_result"
    }
   ],
   "source": [
    "binomial_european(S0=1, K=1, T=1, N=10, v=0.1, p_u=1/2, r=0)"
   ]
  },
  {
   "cell_type": "code",
   "execution_count": 4,
   "metadata": {},
   "outputs": [
    {
     "data": {
      "text/plain": [
       "0.5008688439266606"
      ]
     },
     "execution_count": 4,
     "metadata": {},
     "output_type": "execute_result"
    }
   ],
   "source": [
    "binomial_european(S0=1, K=0.5, T=1, N=10, v=0.1, p_u=1/2, r=0)"
   ]
  },
  {
   "cell_type": "markdown",
   "metadata": {},
   "source": [
    "#### Q2. Finding Implied v"
   ]
  },
  {
   "cell_type": "code",
   "execution_count": 24,
   "metadata": {},
   "outputs": [],
   "source": [
    "def binomial_european_minus_opval(S0, K, T, N, x, p_u, r, option_value):\n",
    "    \"\"\"\n",
    "    This function returns binomial european option value minus provided option value\n",
    "    \"\"\"\n",
    "    return binomial_european(S0, K, T, N, x, p_u, r)-option_value\n",
    "\n",
    "def calibrate_v(option_value, S0, K, T, N, p_u=1/2, r=0, call=True):\n",
    "    \"\"\"\n",
    "    Returns implied v based on provided option value\n",
    "    \"\"\"\n",
    "    sol = root(lambda x: binomial_european_minus_opval(S0, K, T, N, x, p_u, r, option_value), x0=0.1, method='lm')\n",
    "    return sol.x[0]"
   ]
  },
  {
   "cell_type": "code",
   "execution_count": 25,
   "metadata": {},
   "outputs": [
    {
     "data": {
      "text/plain": [
       "0.1"
      ]
     },
     "execution_count": 25,
     "metadata": {},
     "output_type": "execute_result"
    }
   ],
   "source": [
    "calibrate_v(0.12745146665293, S0=1, K=1, T=1, N=10, p_u=1/2, r=0)"
   ]
  },
  {
   "cell_type": "code",
   "execution_count": 26,
   "metadata": {},
   "outputs": [
    {
     "data": {
      "text/plain": [
       "0.1"
      ]
     },
     "execution_count": 26,
     "metadata": {},
     "output_type": "execute_result"
    }
   ],
   "source": [
    "calibrate_v(0.5008688439266606, S0=1, K=0.5, T=1, N=10, p_u=1/2, r=0)"
   ]
  },
  {
   "cell_type": "markdown",
   "metadata": {},
   "source": [
    "#### Q3. American Call Option"
   ]
  },
  {
   "cell_type": "code",
   "execution_count": 27,
   "metadata": {},
   "outputs": [],
   "source": [
    "def binomial_american(S0, K, T, N, v, p_u=1/2, r=0, call=True):\n",
    "    \"\"\"\n",
    "    Returns American Option Values\n",
    "    Parameters:\n",
    "        S0: initial underlying price\n",
    "        K: strike\n",
    "        T: time until maturity\n",
    "        N: number of time steps\n",
    "        v: used to calculate up or down factor; (1+v) or (1-v) respectively \n",
    "        p_u: probability of up factor\n",
    "        r: interest rate (in decimals)\n",
    "        call: True for call option, False for put option\n",
    "    \"\"\"\n",
    "    # check if 0 < v < 1:\n",
    "    if v <= 0 or v >= 1:\n",
    "        raise Exception('v should be >0 and <1')\n",
    "\n",
    "    # check if 0 < p_u < 1:\n",
    "    if p_u <= 0 or p_u >= 1:\n",
    "        raise Exception('p_u should be >0 and <1')\n",
    "    \n",
    "    # compute constants used for pricing:\n",
    "    dt = T/N\n",
    "    u = 1+v\n",
    "    d = 1-v\n",
    "    p_d = 1 - p_u\n",
    "    disct_rate = np.exp(-r*dt)\n",
    "    \n",
    "    # Asset Price at Maturity:\n",
    "    S_T = S0*d**(np.arange(N,-1,-1))*u**(np.arange(0,N+1,1))\n",
    "    \n",
    "    # Payout at Maturity:\n",
    "    if call:\n",
    "        payout = np.maximum(S_T-K, 0)\n",
    "    else:\n",
    "        payout = np.maximum(K-S_T, 0)\n",
    "    \n",
    "    # Go backwards through tree to discount\n",
    "    payout_t = payout\n",
    "    for i in np.arange(N-1, -1, -1):\n",
    "        S_t = S0*d**(np.arange(i,-1,-1))*u**(np.arange(0,i+1,1))\n",
    "        payout_t[:i+1] = disct_rate * (p_u*payout_t[1:i+2] + p_d*payout_t[0:i+1])\n",
    "        payout_t = payout_t[:-1]\n",
    "        if call:\n",
    "            payout_t = np.maximum(S_t-K, payout_t)\n",
    "        else:\n",
    "            payout_t = np.maximum(K-S_t, payout_t)\n",
    "    return payout_t[0]"
   ]
  },
  {
   "cell_type": "code",
   "execution_count": 28,
   "metadata": {},
   "outputs": [
    {
     "data": {
      "text/plain": [
       "0.12745146665293"
      ]
     },
     "execution_count": 28,
     "metadata": {},
     "output_type": "execute_result"
    }
   ],
   "source": [
    "binomial_american(S0=1, K=1, T=1, N=10, v=0.1, p_u=1/2, r=0)"
   ]
  },
  {
   "cell_type": "markdown",
   "metadata": {},
   "source": [
    "#### Q4. Expectation of max $S_{j}$"
   ]
  },
  {
   "cell_type": "code",
   "execution_count": 29,
   "metadata": {},
   "outputs": [],
   "source": [
    "def get_max_Sj(S0, N, v):\n",
    "    \"\"\"\n",
    "    returns expectation of maxium asset value\n",
    "    parameters:\n",
    "        S0: initial stock\n",
    "        N: number of timesteps\n",
    "        v: upfactor\n",
    "    \"\"\"\n",
    "    return np.max(S0*(1-v)**(np.arange(N,-1,-1))*(1+v)**(np.arange(0,N+1,1)))"
   ]
  },
  {
   "cell_type": "code",
   "execution_count": 30,
   "metadata": {},
   "outputs": [
    {
     "data": {
      "text/plain": [
       "17.44940226888645"
      ]
     },
     "execution_count": 30,
     "metadata": {},
     "output_type": "execute_result"
    }
   ],
   "source": [
    "get_max_Sj(1,30,0.1)"
   ]
  },
  {
   "cell_type": "markdown",
   "metadata": {},
   "source": [
    "#### Q5. Non-constant Vs"
   ]
  },
  {
   "cell_type": "code",
   "execution_count": 31,
   "metadata": {},
   "outputs": [],
   "source": [
    "def calibrate_vjs(S0, K, T, N, N_option_prices=[], p_u=1/2, r=0, call=True):\n",
    "    \n",
    "    # check if len(N_option_prices) == N:\n",
    "    if len(N_option_prices) != N:\n",
    "        raise Exception('Option prices length should be N')\n",
    "    \n",
    "    # check if 0 < p_u < 1:\n",
    "    if p_u <= 0 or p_u >= 1:\n",
    "        raise Exception('p_u should be >0 and <1')\n",
    "    \n",
    "    # calibrate v (from t=0 to t=j)\n",
    "    maturity_j = 0\n",
    "    timestep_j = 0\n",
    "    vj_list = []\n",
    "    for price in N_option_prices:\n",
    "        maturity_j += T/N\n",
    "        timestep_j += 1\n",
    "        vj_list.append(calibrate_v(price, S0, K, maturity_j, timestep_j, p_u, r, call))\n",
    "        \n",
    "    return vj_list"
   ]
  },
  {
   "cell_type": "code",
   "execution_count": 32,
   "metadata": {},
   "outputs": [
    {
     "data": {
      "text/plain": [
       "[0.2000000000000001,\n",
       " 0.21655250605964393,\n",
       " 0.2027793946151302,\n",
       " 0.20843453186051514,\n",
       " 0.18554805663395177,\n",
       " 0.10220742702022609,\n",
       " 0.11107455997465751,\n",
       " 0.1310053585718462,\n",
       " 0.14190000884223083,\n",
       " 0.13272413704978506]"
      ]
     },
     "execution_count": 32,
     "metadata": {},
     "output_type": "execute_result"
    }
   ],
   "source": [
    "calibrate_vjs(S0=1, K=1, T=1, N=10, p_u=1/2, r=0, N_option_prices=[0.10,0.12,0.15,0.17,0.17,0.10,0.12,0.15,0.17,0.17], call=True)"
   ]
  }
 ],
 "metadata": {
  "kernelspec": {
   "display_name": "Python 3",
   "language": "python",
   "name": "python3"
  },
  "language_info": {
   "codemirror_mode": {
    "name": "ipython",
    "version": 3
   },
   "file_extension": ".py",
   "mimetype": "text/x-python",
   "name": "python",
   "nbconvert_exporter": "python",
   "pygments_lexer": "ipython3",
   "version": "3.7.3"
  }
 },
 "nbformat": 4,
 "nbformat_minor": 2
}
